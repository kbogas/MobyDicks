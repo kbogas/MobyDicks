{
 "cells": [
  {
   "cell_type": "markdown",
   "metadata": {},
   "source": [
    "## Name: Simple Multi-hop GCN\n",
    "### Date: 12/4/2024\n",
    "### Status: Not sure what we wanted to see. 2-hop seems to have more same-class ratio.\n",
    "### Idea: \n",
    "For the time bein we downloaded the benchmark datasets and calculated the same-class ratio, between hops.\n",
    "\n",
    "### Results:\n",
    "For Pubmed and CiteSeer, the 2-hop matrix was more informative.\n"
   ]
  },
  {
   "cell_type": "code",
   "execution_count": 20,
   "metadata": {},
   "outputs": [
    {
     "name": "stdout",
     "output_type": "stream",
     "text": [
      "  NumNodes: 3327\n",
      "  NumEdges: 9228\n",
      "  NumFeats: 3703\n",
      "  NumClasses: 6\n",
      "  NumTrainingSamples: 120\n",
      "  NumValidationSamples: 500\n",
      "  NumTestSamples: 1000\n",
      "Done loading data from cached files.\n"
     ]
    }
   ],
   "source": [
    "from dgl.data import ChameleonDataset, FlickrDataset, PubmedGraphDataset, AmazonCoBuyPhotoDataset, CiteseerGraphDataset\n",
    "\n",
    "dataset = CiteseerGraphDataset()#PubmedGraphDataset()\n",
    "\n",
    "g = dataset[0]\n",
    "\n",
    "num_classes = dataset.num_classes"
   ]
  },
  {
   "cell_type": "code",
   "execution_count": 21,
   "metadata": {},
   "outputs": [],
   "source": [
    "import numpy as np\n",
    "labels = g.ndata[\"label\"]\n",
    "rows, cols = g.edges()\n",
    "train_mask = g.ndata['train_mask']\n",
    "test_mask = g.ndata['test_mask']\n",
    "\n",
    "A = np.zeros((len(labels), len(labels)))\n",
    "A[rows.numpy(), cols.numpy()] = 1\n",
    "\n"
   ]
  },
  {
   "cell_type": "code",
   "execution_count": 22,
   "metadata": {},
   "outputs": [
    {
     "name": "stdout",
     "output_type": "stream",
     "text": [
      "Same-class ratio 1: 70.7724%\n",
      "\n",
      "Same-class ratio 2: 76.5289%\n",
      "\n",
      "Same-class ratio 3: 68.0672%\n",
      "\n",
      "Same-class ratio 4: 62.6050%\n",
      "\n",
      "Same-class ratio 5: 60.5042%\n",
      "\n",
      "Same-class ratio 6: 60.0840%\n",
      "\n",
      "Same-class ratio 7: 59.6639%\n",
      "\n",
      "Same-class ratio 8: 59.6639%\n",
      "\n",
      "Same-class ratio 9: 58.4034%\n",
      "\n"
     ]
    }
   ],
   "source": [
    "import tqdm\n",
    "import numpy as np\n",
    "from collections import defaultdict\n",
    "\n",
    "def get_total_ratio(rows, cols, labels, wanted_inds):\n",
    "    counts = defaultdict(list)\n",
    "    degrees = np.bincount(rows)\n",
    "    for head, tail, degree in zip(rows,cols, degrees):\n",
    "        val = 0\n",
    "        if labels[head] == labels[tail]:\n",
    "            val = 1\n",
    "        counts[head] += [val]\n",
    "    return counts\n",
    "\n",
    "\n",
    "wanted_inds = np.where(train_mask)[0]\n",
    "ratios = []\n",
    "counts = []\n",
    "for p in range(1,10):\n",
    "    if p == 1:\n",
    "        A_power = A\n",
    "    else:\n",
    "        A_power = np.linalg.matrix_power(A, p)\n",
    "    \n",
    "    rows, cols = np.nonzero(A_power[wanted_inds][wanted_inds])\n",
    "    count = get_total_ratio(rows, cols, labels, wanted_inds)\n",
    "    counts.append(count)\n",
    "    ratio = np.mean([sum(v)/len(v) for v in count.values()])\n",
    "    print(f\"Same-class ratio {p}: {100*ratio:.4f}%\\n\")\n",
    "    ratios.append(ratio)\n",
    "    #break"
   ]
  },
  {
   "cell_type": "code",
   "execution_count": 23,
   "metadata": {},
   "outputs": [
    {
     "name": "stderr",
     "output_type": "stream",
     "text": [
      "/tmp/ipykernel_1804231/1756913912.py:4: TqdmDeprecationWarning: This function will be removed in tqdm==5.0.0\n",
      "Please use `tqdm.notebook.tqdm` instead of `tqdm.tqdm_notebook`\n",
      "  for edge_index in tqdm.tqdm_notebook(to_check_edges):\n"
     ]
    },
    {
     "data": {
      "application/vnd.jupyter.widget-view+json": {
       "model_id": "b8b8067088d24b77bc2b9f2796c6cd1c",
       "version_major": 2,
       "version_minor": 0
      },
      "text/plain": [
       "  0%|          | 0/99040 [00:00<?, ?it/s]"
      ]
     },
     "metadata": {},
     "output_type": "display_data"
    },
    {
     "name": "stdout",
     "output_type": "stream",
     "text": [
      "0.22864499192245558\n"
     ]
    }
   ],
   "source": [
    "import tqdm\n",
    "to_check_edges = [index for index, val in enumerate(rows) if val in wanted_inds]\n",
    "same = 0\n",
    "for edge_index in tqdm.tqdm_notebook(to_check_edges):\n",
    "    head, tail = rows[edge_index], cols[edge_index]\n",
    "    if labels[head] == labels[tail]:\n",
    "        same += 1\n",
    "print(same/len(to_check_edges))"
   ]
  },
  {
   "cell_type": "code",
   "execution_count": null,
   "metadata": {},
   "outputs": [],
   "source": []
  }
 ],
 "metadata": {
  "kernelspec": {
   "display_name": "Python 3.11.4 ('dgl')",
   "language": "python",
   "name": "python3"
  },
  "language_info": {
   "codemirror_mode": {
    "name": "ipython",
    "version": 3
   },
   "file_extension": ".py",
   "mimetype": "text/x-python",
   "name": "python",
   "nbconvert_exporter": "python",
   "pygments_lexer": "ipython3",
   "version": "3.9.18"
  },
  "orig_nbformat": 4,
  "vscode": {
   "interpreter": {
    "hash": "6434d8c2232d44909f387645732f9bf4359e1efb080d783348a0abd1c69d7cf9"
   }
  }
 },
 "nbformat": 4,
 "nbformat_minor": 2
}
