{
 "cells": [
  {
   "cell_type": "markdown",
   "metadata": {},
   "source": [
    "## Name: Signed Distance of features instead of simple distance based kernels.\n",
    "### Date: 07/8/2024\n",
    "### Status: Somewhat works. Need to work on the idea more.\n",
    "### Idea: \n",
    "The idea stemmed from thinking that instead of using a distance gramm matrix, which is agnostic of the labels, we could incorporate the labels as well.\n",
    "So we transfrom D(x,y) = -D(x,y) if y==0 else D(x,y) (with y==1).\n",
    "\n",
    "### Results:\n",
    "Seems to work on linear kernel with DT on top.\n",
    "linear signed is better on 29/63 datasets, it is worse in 24/63 and they tied the rest.."
   ]
  },
  {
   "cell_type": "code",
   "execution_count": null,
   "metadata": {},
   "outputs": [],
   "source": [
    "WINS\n",
    "                  DT  linear_svm  poly_svm  linear_signed_  linear_orig_\n",
    "DT               0.0        42.0      41.0            47.0          45.0\n",
    "linear_svm      19.0         0.0      26.0            33.0          34.0\n",
    "poly_svm        19.0        26.0       0.0            32.0          34.0\n",
    "linear_signed_  14.0        29.0      28.0             0.0          29.0\n",
    "linear_orig_    14.0        28.0      27.0            23.0           0.0"
   ]
  },
  {
   "cell_type": "code",
   "execution_count": 1,
   "metadata": {},
   "outputs": [],
   "source": [
    "from sklearn.datasets import load_breast_cancer\n",
    "import pandas as pd\n",
    "from pmlb import fetch_data\n",
    "from sklearn.tree import DecisionTreeClassifier, DecisionTreeRegressor\n",
    "from sklearn.decomposition import PCA\n",
    "import numpy as np\n",
    "from sklearn.model_selection import cross_val_predict, StratifiedKFold\n",
    "from sklearn.tree import DecisionTreeClassifier\n",
    "from sklearn.metrics import classification_report, confusion_matrix"
   ]
  },
  {
   "cell_type": "code",
   "execution_count": 2,
   "metadata": {},
   "outputs": [],
   "source": [
    "\n",
    "random_state = 42\n",
    "cv = StratifiedKFold(n_splits=10, shuffle=True, random_state=random_state)\n",
    "\n",
    "X, y = load_breast_cancer(return_X_y=True)"
   ]
  },
  {
   "cell_type": "code",
   "execution_count": 117,
   "metadata": {},
   "outputs": [
    {
     "name": "stdout",
     "output_type": "stream",
     "text": [
      "              precision    recall  f1-score   support\n",
      "\n",
      "          -1       0.88      0.84      0.86       212\n",
      "           1       0.91      0.93      0.92       357\n",
      "\n",
      "    accuracy                           0.90       569\n",
      "   macro avg       0.89      0.89      0.89       569\n",
      "weighted avg       0.90      0.90      0.90       569\n",
      "\n",
      "[[178  34]\n",
      " [ 24 333]]\n"
     ]
    }
   ],
   "source": [
    "from sklearn.base import clone\n",
    "from sklearn.model_selection import cross_val_predict, StratifiedKFold\n",
    "from sklearn.metrics import pairwise_distances, pairwise_kernels\n",
    "from sklearn.tree import DecisionTreeClassifier\n",
    "from sklearn.ensemble import RandomForestClassifier\n",
    "from sklearn.svm import SVC\n",
    "from sklearn.metrics import classification_report, confusion_matrix\n",
    "\n",
    "\n",
    "kernel = 'linear'\n",
    "\n",
    "clf = RandomForestClassifier(random_state=random_state)# DecisionTreeClassifier(random_state=random_state) \n",
    "\n",
    "y_pred_all = []\n",
    "y_true_all = []\n",
    "for train, test in cv.split(X,y):\n",
    "    X_train, y_train = X[train], y[train]\n",
    "    X_test, y_test = X[test], y[test]\n",
    "    \n",
    "    y_train[y_train == 0] = -1\n",
    "    y_test[y_test == 0] = -1\n",
    "    \n",
    "    \n",
    "    train_2_train = pairwise_kernels(X_train, X_train, metric=kernel) #* y_train \n",
    "    \n",
    "    \n",
    "    #train_2_train = np.einsum('ij,j->ij',train_2_train, y_train)\n",
    "    test_2_train = pairwise_kernels(X_test, X_train, metric=kernel) #* y_train\n",
    "    \n",
    "    #test_2_train = np.einsum('ij,j->ij',test_2_train, y_train)\n",
    "    \n",
    "    cur_clf = clone(clf)\n",
    "    cur_clf.fit(train_2_train, y_train)\n",
    "    y_pred = cur_clf.predict(test_2_train)\n",
    "    y_pred_all.extend(y_pred.tolist())\n",
    "    y_true_all.extend(y_test.tolist())\n",
    "    \n",
    "print(classification_report(y_true_all, y_pred_all))\n",
    "print(confusion_matrix(y_true_all, y_pred_all))"
   ]
  },
  {
   "cell_type": "code",
   "execution_count": 4,
   "metadata": {},
   "outputs": [
    {
     "name": "stdout",
     "output_type": "stream",
     "text": [
      "              precision    recall  f1-score   support\n",
      "\n",
      "          -1       0.87      0.84      0.85       212\n",
      "           1       0.91      0.92      0.92       357\n",
      "\n",
      "    accuracy                           0.89       569\n",
      "   macro avg       0.89      0.88      0.88       569\n",
      "weighted avg       0.89      0.89      0.89       569\n",
      "\n",
      "[[178  34]\n",
      " [ 27 330]]\n"
     ]
    }
   ],
   "source": [
    "from sklearn.metrics import pairwise_distances, pairwise_kernels\n",
    "\n",
    "\n",
    "y_pred_all = []\n",
    "y_true_all = []\n",
    "for train, test in cv.split(X,y):\n",
    "    X_train, y_train = X[train], y[train]\n",
    "    X_test, y_test = X[test], y[test]\n",
    "    \n",
    "    y_train[y_train == 0] = -1\n",
    "    y_test[y_test == 0] = -1\n",
    "    \n",
    "    \n",
    "    \n",
    "    train_2_train = pairwise_kernels(X_train, X_train, metric=kernel) #* y_train \n",
    "    \n",
    "    y_train_repeated = np.repeat(y_train.reshape(1,-1), repeats=[len(train_2_train)], axis=0)\n",
    "    \n",
    "    train_2_train = train_2_train * y_train_repeated\n",
    "    \n",
    "    #train_2_train = np.einsum('ij,j->ij',train_2_train, y_train)\n",
    "    test_2_train = pairwise_kernels(X_test, X_train, metric=kernel) #* y_train\n",
    "    \n",
    "    y_train_test_repeated = np.repeat(y_train.reshape(1,-1), repeats=[len(test_2_train)], axis=0)\n",
    "    \n",
    "    test_2_train = test_2_train * y_train_test_repeated\n",
    "    \n",
    "    #test_2_train = np.einsum('ij,j->ij',test_2_train, y_train)\n",
    "    \n",
    "    cur_clf = clone(clf)\n",
    "    cur_clf.fit(train_2_train, y_train)\n",
    "    y_pred = cur_clf.predict(test_2_train)\n",
    "    y_pred_all.extend(y_pred.tolist())\n",
    "    y_true_all.extend(y_test.tolist())\n",
    "    \n",
    "print(classification_report(y_true_all, y_pred_all))\n",
    "print(confusion_matrix(y_true_all, y_pred_all))"
   ]
  },
  {
   "cell_type": "code",
   "execution_count": 311,
   "metadata": {},
   "outputs": [
    {
     "name": "stdout",
     "output_type": "stream",
     "text": [
      "TRAIN score: 1.0\n",
      "TRAIN score: 1.0\n",
      "TRAIN score: 1.0\n",
      "TRAIN score: 1.0\n",
      "TRAIN score: 1.0\n",
      "TRAIN score: 1.0\n",
      "TRAIN score: 1.0\n",
      "TRAIN score: 1.0\n",
      "TRAIN score: 1.0\n",
      "TRAIN score: 1.0\n",
      "              precision    recall  f1-score   support\n",
      "\n",
      "          -1       0.96      0.76      0.85       212\n",
      "           1       0.88      0.98      0.93       357\n",
      "\n",
      "    accuracy                           0.90       569\n",
      "   macro avg       0.92      0.87      0.89       569\n",
      "weighted avg       0.91      0.90      0.90       569\n",
      "\n",
      "[[162  50]\n",
      " [  6 351]]\n"
     ]
    }
   ],
   "source": [
    "from sklearn.metrics import pairwise_distances, pairwise_kernels\n",
    "from sklearn.linear_model import LogisticRegression\n",
    "from sklearn.pipeline import Pipeline\n",
    "from sklearn.preprocessing import StandardScaler\n",
    "\n",
    "\n",
    "y_pred_all = []\n",
    "y_true_all = []\n",
    "kernel = 'euclidean'\n",
    "\n",
    "\n",
    "# clf = Pipeline([\n",
    "#     ('sc', StandardScaler()),\n",
    "#     ('clf', RandomForestClassifier(random_state=random_state))\n",
    "# ])\n",
    "clf = RandomForestClassifier(random_state=random_state)# RandomForestClassifier(random_state=random_state)#\n",
    "\n",
    "for train, test in cv.split(X,y):\n",
    "    X_train, y_train = X[train], y[train]\n",
    "    X_test, y_test = X[test], y[test]\n",
    "    \n",
    "    y_train[y_train == 0] = -1\n",
    "    y_test[y_test == 0] = -1\n",
    "    \n",
    "    \n",
    "    \n",
    "    train_2_train = pairwise_distances(X_train, X_train, metric=kernel) #* y_train \n",
    "    \n",
    "    # To counter the effect of zeros we sort them by closest to furthest and remove the zero\n",
    "    # Resulting at train_num-1 features.\n",
    "    # At test time, we remove the furthest value as we calculate will have the least impact\n",
    "    train_sort_neighbors_per_sample = np.argsort(train_2_train, axis=1)\n",
    "    \n",
    "    train_2_train = train_2_train[np.arange(len(train_2_train))[:,None],train_sort_neighbors_per_sample]\n",
    "    \n",
    "    sign_matrix = y_train.reshape(-1,1) @ y_train.reshape(1,-1)\n",
    "    sign_matrix = sign_matrix[np.arange(len(sign_matrix))[:,None], train_sort_neighbors_per_sample]\n",
    "    train_2_train_signed = train_2_train * sign_matrix\n",
    "    train_2_train_signed = train_2_train_signed[:,1:]\n",
    "    \n",
    "    #train_2_train = np.einsum('ij,j->ij',train_2_train, y_train)\n",
    "    test_2_train = pairwise_distances(X_test, X_train, metric=kernel) #* y_train\n",
    "    test_sort_neighbors_per_sample = np.argsort(test_2_train, axis=1)\n",
    "    \n",
    "    test_2_train = test_2_train[np.arange(len(test_2_train))[:,None],test_sort_neighbors_per_sample]\n",
    "    \n",
    "    test_sign_matrix_pos = np.ones(len(X_test)).reshape(-1,1) @ y_train.reshape(1,-1)\n",
    "    test_sign_matrix_pos = test_sign_matrix_pos[np.arange(len(test_sign_matrix_pos))[:,None], test_sort_neighbors_per_sample]\n",
    "    \n",
    "    test_2_train_pos = test_2_train * test_sign_matrix_pos\n",
    "    test_2_train_pos = test_2_train_pos[:,:-1]\n",
    "    \n",
    "    test_sign_matrix_neg = -test_sign_matrix_pos\n",
    "    test_sign_matrix_neg = test_sign_matrix_neg[np.arange(len(test_sign_matrix_neg))[:,None], test_sort_neighbors_per_sample]\n",
    "    test_2_train_neg = test_2_train * test_sign_matrix_neg\n",
    "    test_2_train_neg = test_2_train_neg[:,:-1]\n",
    "    \n",
    "    \n",
    "    sc = StandardScaler()\n",
    "    train_2_train_signed = sc.fit_transform(train_2_train_signed)\n",
    "    test_2_train_pos = sc.transform(test_2_train_pos)\n",
    "    test_2_train_neg = sc.transform(test_2_train_neg)\n",
    "    \n",
    "    cur_clf = clone(clf)\n",
    "    cur_clf.fit(train_2_train_signed, y_train)\n",
    "    print(f'TRAIN score: {cur_clf.score(train_2_train_signed, y_train)}')\n",
    "    y_pred_pos = cur_clf.predict_proba(test_2_train_pos)\n",
    "    y_pred_neg = cur_clf.predict_proba(test_2_train_neg)\n",
    "    \n",
    "    # ## MLE ##\n",
    "    \n",
    "    means = np.mean(train_2_train_signed, axis=0)\n",
    "    # covs = np.cov(treain_2_train_signed, rowvar=False)\n",
    "    \n",
    "    from sklearn.covariance import ShrunkCovariance\n",
    "    covs = ShrunkCovariance().fit(train_2_train_signed).covariance_\n",
    "\n",
    "    \n",
    "    from scipy.stats import multivariate_normal\n",
    "    from sklearn.preprocessing import MinMaxScaler\n",
    "    g = multivariate_normal(means, covs, allow_singular=True)\n",
    "    # pos_likelihood = g.pdf(test_2_train_pos)\n",
    "    # neg_likelihood = g.pdf(test_2_train_neg)\n",
    "    pos_likelihood = MinMaxScaler().fit_transform(g.logpdf(test_2_train_pos).reshape(-1,1)).ravel()\n",
    "    neg_likelihood = 1 - pos_likelihood #MinMaxScaler().fit_transform(g.logpdf(test_2_train_neg).reshape(-1,1)).ravel()\n",
    "    \n",
    "    y_pos = y_pred_pos[:, 1] #* pos_likelihood**(1)\n",
    "    y_neg = y_pred_neg[:, 0] #* neg_likelihood**(1)\n",
    "    \n",
    "    y_pred = (y_pos>y_neg).astype(int)#(pos_likelihood > neg_likelihood).astype(int)#\n",
    "    #y_pred = (( y_pred_pos[:,1] + y_pred_neg[:,0] ) / 2 > 0.5).astype(int)\n",
    "    y_pred[y_pred == 0] = -1\n",
    "    \n",
    "    y_pred_all.extend(y_pred.tolist())\n",
    "    y_true_all.extend(y_test.tolist())\n",
    "    #break\n",
    "    \n",
    "print(classification_report(y_true_all, y_pred_all))\n",
    "print(confusion_matrix(y_true_all, y_pred_all))"
   ]
  },
  {
   "cell_type": "code",
   "execution_count": 292,
   "metadata": {},
   "outputs": [
    {
     "data": {
      "text/plain": [
       "array([0.0570956 , 0.0413995 , 0.61852362, 0.31178119, 0.0058888 ,\n",
       "       0.19066083, 0.01238385, 0.64921265, 0.15513445, 0.17577428,\n",
       "       0.01060588, 0.        , 0.18315931, 0.62984629, 0.05460237,\n",
       "       0.69545459, 0.18102912, 0.47647135, 0.01413328, 0.69930682,\n",
       "       0.81231982, 0.70744076, 0.03683333, 0.58260724, 0.0490715 ,\n",
       "       0.00806122, 0.57369119, 0.00547379, 0.17756392, 0.1445992 ,\n",
       "       0.08514906, 0.03574965, 0.67359731, 0.63696139, 0.8610784 ,\n",
       "       0.71543777, 0.01871419, 0.97888008, 0.0362172 , 0.01251845,\n",
       "       0.45841842, 0.01173448, 0.02356715, 0.00880145, 0.05592427,\n",
       "       0.55942778, 0.00776406, 0.00632291, 0.04300332, 0.11211373,\n",
       "       0.02441662, 0.00221053, 0.63271704, 0.01884269, 0.14759646,\n",
       "       1.        , 0.88122381])"
      ]
     },
     "execution_count": 292,
     "metadata": {},
     "output_type": "execute_result"
    }
   ],
   "source": [
    "pos_likelihood"
   ]
  },
  {
   "cell_type": "code",
   "execution_count": 279,
   "metadata": {},
   "outputs": [
    {
     "data": {
      "text/plain": [
       "array([0.99540797, 0.99435922, 0.69734925, 0.99594029, 0.99689406,\n",
       "       0.99762642, 0.93392378, 0.99394281, 0.96407388, 0.97577406,\n",
       "       0.91546816, 0.68053271, 0.99902761, 0.99869118, 0.98341443,\n",
       "       1.        , 0.98398718, 0.9893637 , 0.99149974, 0.83366953,\n",
       "       0.9974062 , 0.99732452, 0.9880731 , 0.99659903, 0.99477408,\n",
       "       0.94584995, 0.86094965, 0.9989683 , 0.99854147, 0.98507962,\n",
       "       0.99451148, 0.        , 0.99721974, 0.99836353, 0.98790375,\n",
       "       0.99842164, 0.99969731, 0.79497702, 0.99596382, 0.9974311 ,\n",
       "       0.92900833, 0.99780531, 0.91915389, 0.99736412, 0.99517583,\n",
       "       0.98356341, 0.994431  , 0.98822936, 0.98181233, 0.97204107,\n",
       "       0.90911988, 0.95914144, 0.9989318 , 0.9908018 , 0.97348481,\n",
       "       0.99900543])"
      ]
     },
     "execution_count": 279,
     "metadata": {},
     "output_type": "execute_result"
    }
   ],
   "source": [
    "MinMaxScaler().fit_transform(g.logpdf(test_2_train_neg).reshape(-1,1)).ravel()"
   ]
  },
  {
   "cell_type": "code",
   "execution_count": null,
   "metadata": {},
   "outputs": [],
   "source": [
    "neg_likelihood"
   ]
  },
  {
   "cell_type": "code",
   "execution_count": 280,
   "metadata": {},
   "outputs": [
    {
     "data": {
      "text/plain": [
       "array([ -1,  -2,  -3,  -4,  -5,  -6,  -7,  -8,  -9, -10, -11, -12, -11,\n",
       "       -12, -11, -10, -11, -10,  -9, -10,  -9,  -8,  -7,  -6,  -5,  -4,\n",
       "        -3,  -2,  -1,  -2,  -1,  -2,  -1,   0,  -1,  -2,  -1,   0,  -1,\n",
       "         0,   1,   2,   3,   4,   3,   4,   5,   6,   7,   8,   9,  10,\n",
       "        11,  12,  13,  14])"
      ]
     },
     "execution_count": 280,
     "metadata": {},
     "output_type": "execute_result"
    }
   ],
   "source": [
    "y_test[np.argsort(MinMaxScaler().fit_transform(g.logpdf(test_2_train_neg).reshape(-1,1)).ravel())].cumsum()"
   ]
  },
  {
   "cell_type": "code",
   "execution_count": null,
   "metadata": {},
   "outputs": [
    {
     "data": {
      "text/plain": [
       "array([4.59203022e-03, 5.64077654e-03, 3.02650747e-01, 4.05971228e-03,\n",
       "       3.10594358e-03, 2.37358105e-03, 6.60762172e-02, 6.05718851e-03,\n",
       "       3.59261217e-02, 2.42259377e-02, 8.45318365e-02, 3.19467291e-01,\n",
       "       9.72394159e-04, 1.30882246e-03, 1.65855725e-02, 0.00000000e+00,\n",
       "       1.60128197e-02, 1.06362981e-02, 8.50025694e-03, 1.66330467e-01,\n",
       "       2.59380273e-03, 2.67548417e-03, 1.19269045e-02, 3.40096967e-03,\n",
       "       5.22591531e-03, 5.41500513e-02, 1.39050353e-01, 1.03170450e-03,\n",
       "       1.45853408e-03, 1.49203812e-02, 5.48851512e-03, 1.00000000e+00,\n",
       "       2.78025869e-03, 1.63646830e-03, 1.20962543e-02, 1.57836084e-03,\n",
       "       3.02687510e-04, 2.05022984e-01, 4.03618308e-03, 2.56889687e-03,\n",
       "       7.09916703e-02, 2.19468745e-03, 8.08461079e-02, 2.63587704e-03,\n",
       "       4.82416715e-03, 1.64365889e-02, 5.56899897e-03, 1.17706430e-02,\n",
       "       1.81876710e-02, 2.79589345e-02, 9.08801181e-02, 4.08585619e-02,\n",
       "       1.06819518e-03, 9.19819914e-03, 2.65151888e-02, 9.94569523e-04])"
      ]
     },
     "execution_count": 283,
     "metadata": {},
     "output_type": "execute_result"
    }
   ],
   "source": []
  },
  {
   "cell_type": "code",
   "execution_count": null,
   "metadata": {},
   "outputs": [],
   "source": []
  },
  {
   "cell_type": "code",
   "execution_count": 248,
   "metadata": {},
   "outputs": [
    {
     "data": {
      "text/plain": [
       "array([ -271.64454894,  -584.06452126, -1250.4935477 ,  -443.34564659,\n",
       "        -288.87215064,  -375.42861359,  -956.20760791,  -182.21457154,\n",
       "        -869.31027314,  -891.38874389, -1161.55213873, -2263.88407504,\n",
       "        -243.83669496,  -222.65561582,  -274.61962639,  -234.37189194,\n",
       "        -225.55639964,  -197.9112646 ,  -184.94666406, -1513.21466802,\n",
       "        -268.89681838,  -166.49057214,  -227.6879882 ,  -195.97248631,\n",
       "        -170.13695055,  -838.51204727, -1348.15354725,  -295.38035694,\n",
       "        -189.20687169,  -285.55756852,  -631.15579001, -6058.24209626,\n",
       "        -174.61712439,  -235.47903693,  -207.23073964,  -185.51451219,\n",
       "        -268.48024637, -1572.3783444 ,  -181.38308691,  -180.70004561,\n",
       "       -1048.9685156 ,  -196.19490552, -1049.31080593,  -521.14951977,\n",
       "        -177.6645638 ,  -933.34018606,  -170.43469876,  -221.74239957,\n",
       "        -315.50474965,  -423.18294719, -1201.66088008,  -523.16737809,\n",
       "        -226.41102509,  -209.15194856,  -349.33479797,  -249.78536458])"
      ]
     },
     "execution_count": 248,
     "metadata": {},
     "output_type": "execute_result"
    }
   ],
   "source": [
    "g.logpdf(test_2_train_pos)"
   ]
  },
  {
   "cell_type": "code",
   "execution_count": 240,
   "metadata": {},
   "outputs": [
    {
     "data": {
      "text/plain": [
       "array([-1, -1, -1, -1, -1, -1, -1, -1, -1, -1, -1, -1, -1, -1, -1, -1, -1,\n",
       "        1,  1, -1,  1, -1,  1,  1,  1, -1,  1,  1, -1,  1,  1,  1,  1,  1,\n",
       "        1,  1,  1,  1,  1,  1,  1,  1,  1,  1,  1,  1,  1,  1,  1,  1,  1,\n",
       "        1,  1,  1,  1,  1])"
      ]
     },
     "execution_count": 240,
     "metadata": {},
     "output_type": "execute_result"
    }
   ],
   "source": [
    "y_test[np.argsort(g.logpdf(test_2_train_pos))]"
   ]
  },
  {
   "cell_type": "code",
   "execution_count": null,
   "metadata": {},
   "outputs": [
    {
     "data": {
      "text/plain": [
       "array([0.78932739, 0.55871272, 0.36605594, 0.63513232, 0.76806183,\n",
       "       0.68416197, 0.43180609, 0.95288367, 0.45562246, 0.44932564,\n",
       "       0.38396286, 0.22545396, 0.82861844, 0.86402175, 0.78550683,\n",
       "       0.84374722, 0.85882745, 0.91408081, 0.94562508, 0.32027954,\n",
       "       0.79291522, 1.        , 0.85508631, 0.91852311, 0.98815231,\n",
       "       0.46471476, 0.34792276, 0.76052888, 0.93475873, 0.77199856,\n",
       "       0.53805559, 0.        , 0.97440919, 0.8419235 , 0.89388349,\n",
       "       0.94414568, 0.79346424, 0.3111515 , 0.95514057, 0.95701181,\n",
       "       0.40891397, 0.91800895, 0.40883371, 0.58969114, 0.9655235 ,\n",
       "       0.43783064, 0.98721216, 0.86568242, 0.73872872, 0.64859542,\n",
       "       0.37570886, 0.58862767, 0.85731994, 0.88993829, 0.70630004,\n",
       "       0.81961059])"
      ]
     },
     "execution_count": 245,
     "metadata": {},
     "output_type": "execute_result"
    }
   ],
   "source": [
    "from sklearn.preprocessing import MinMaxScaler\n"
   ]
  },
  {
   "cell_type": "code",
   "execution_count": 192,
   "metadata": {},
   "outputs": [
    {
     "name": "stdout",
     "output_type": "stream",
     "text": [
      "Likelihood of new data point: 0.04655707891050999\n"
     ]
    }
   ],
   "source": [
    "from scipy.stats import multivariate_normal\n",
    "import numpy as np\n",
    "\n",
    "# Example training data (replace with your actual data)\n",
    "train_2_train_signed = np.random.randn(100, 3)  # Random dataset of 100 samples, 3 features\n",
    "\n",
    "# Fit the distribution\n",
    "means = train_2_train_signed.mean(axis=0)\n",
    "covs = np.cov(train_2_train_signed, rowvar=False)\n",
    "dist = multivariate_normal(means, covs, allow_singular=True, seed=42)\n",
    "\n",
    "# Example new data point\n",
    "new_data = np.array([0.5, -0.1, 0.3])\n",
    "\n",
    "# Estimate the likelihood of the new data point\n",
    "likelihood_new_data = dist.pdf(new_data)\n",
    "\n",
    "print(f\"Likelihood of new data point: {likelihood_new_data}\")"
   ]
  },
  {
   "cell_type": "code",
   "execution_count": 189,
   "metadata": {},
   "outputs": [
    {
     "data": {
      "text/plain": [
       "array([0., 0., 0., 0., 0., 0., 0., 0., 0., 0., 0., 0., 0., 0., 0., 0., 0.,\n",
       "       0., 0., 0., 0., 0., 0., 0., 0., 0., 0., 0., 0., 0., 0., 0., 0., 0.,\n",
       "       0., 0., 0., 0., 0., 0., 0., 0., 0., 0., 0., 0., 0., 0., 0., 0., 0.,\n",
       "       0., 0., 0., 0., 0., 0., 0., 0., 0., 0., 0., 0., 0., 0., 0., 0., 0.,\n",
       "       0., 0., 0., 0., 0., 0., 0., 0., 0., 0., 0., 0., 0., 0., 0., 0., 0.,\n",
       "       0., 0., 0., 0., 0., 0., 0., 0., 0., 0., 0., 0., 0., 0., 0., 0., 0.,\n",
       "       0., 0., 0., 0., 0., 0., 0., 0., 0., 0., 0., 0., 0., 0., 0., 0., 0.,\n",
       "       0., 0., 0., 0., 0., 0., 0., 0., 0., 0., 0., 0., 0., 0., 0., 0., 0.,\n",
       "       0., 0., 0., 0., 0., 0., 0., 0., 0., 0., 0., 0., 0., 0., 0., 0., 0.,\n",
       "       0., 0., 0., 0., 0., 0., 0., 0., 0., 0., 0., 0., 0., 0., 0., 0., 0.,\n",
       "       0., 0., 0., 0., 0., 0., 0., 0., 0., 0., 0., 0., 0., 0., 0., 0., 0.,\n",
       "       0., 0., 0., 0., 0., 0., 0., 0., 0., 0., 0., 0., 0., 0., 0., 0., 0.,\n",
       "       0., 0., 0., 0., 0., 0., 0., 0., 0., 0., 0., 0., 0., 0., 0., 0., 0.,\n",
       "       0., 0., 0., 0., 0., 0., 0., 0., 0., 0., 0., 0., 0., 0., 0., 0., 0.,\n",
       "       0., 0., 0., 0., 0., 0., 0., 0., 0., 0., 0., 0., 0., 0., 0., 0., 0.,\n",
       "       0., 0., 0., 0., 0., 0., 0., 0., 0., 0., 0., 0., 0., 0., 0., 0., 0.,\n",
       "       0., 0., 0., 0., 0., 0., 0., 0., 0., 0., 0., 0., 0., 0., 0., 0., 0.,\n",
       "       0., 0., 0., 0., 0., 0., 0., 0., 0., 0., 0., 0., 0., 0., 0., 0., 0.,\n",
       "       0., 0., 0., 0., 0., 0., 0., 0., 0., 0., 0., 0., 0., 0., 0., 0., 0.,\n",
       "       0., 0., 0., 0., 0., 0., 0., 0., 0., 0., 0., 0., 0., 0., 0., 0., 0.,\n",
       "       0., 0., 0., 0., 0., 0., 0., 0., 0., 0., 0., 0., 0., 0., 0., 0., 0.,\n",
       "       0., 0., 0., 0., 0., 0., 0., 0., 0., 0., 0., 0., 0., 0., 0., 0., 0.,\n",
       "       0., 0., 0., 0., 0., 0., 0., 0., 0., 0., 0., 0., 0., 0., 0., 0., 0.,\n",
       "       0., 0., 0., 0., 0., 0., 0., 0., 0., 0., 0., 0., 0., 0., 0., 0., 0.,\n",
       "       0., 0., 0., 0., 0., 0., 0., 0., 0., 0., 0., 0., 0., 0., 0., 0., 0.,\n",
       "       0., 0., 0., 0., 0., 0., 0., 0., 0., 0., 0., 0., 0., 0., 0., 0., 0.,\n",
       "       0., 0., 0., 0., 0., 0., 0., 0., 0., 0., 0., 0., 0., 0., 0., 0., 0.,\n",
       "       0., 0., 0., 0., 0., 0., 0., 0., 0., 0., 0., 0., 0., 0., 0., 0., 0.,\n",
       "       0., 0., 0., 0., 0., 0., 0., 0., 0., 0., 0., 0., 0., 0., 0., 0., 0.,\n",
       "       0., 0., 0., 0., 0., 0., 0., 0., 0., 0., 0., 0., 0., 0., 0., 0., 0.,\n",
       "       0., 0.])"
      ]
     },
     "execution_count": 189,
     "metadata": {},
     "output_type": "execute_result"
    }
   ],
   "source": [
    "from scipy.stats import multivariate_normal\n",
    "means = train_2_train_signed.mean(axis=0)\n",
    "covs = np.cov(train_2_train_signed, rowvar=False)\n",
    "dist = multivariate_normal(means, covs, allow_singular=True, seed=42)\n",
    "dist.pdf(train_2_train_signed)"
   ]
  },
  {
   "cell_type": "code",
   "execution_count": 169,
   "metadata": {},
   "outputs": [
    {
     "data": {
      "text/plain": [
       "0.0"
      ]
     },
     "execution_count": 169,
     "metadata": {},
     "output_type": "execute_result"
    }
   ],
   "source": [
    "g.cdf(train_2_train_signed[0])"
   ]
  },
  {
   "cell_type": "code",
   "execution_count": 159,
   "metadata": {},
   "outputs": [
    {
     "data": {
      "text/plain": [
       "(array([ -6.45166418,  -6.54944005,  -3.36453994, -21.15466003,\n",
       "          4.23468848, -14.28697818,  -9.2110485 ,  -6.81244769,\n",
       "         -7.39745569,   1.32512641]),\n",
       " array([27.1185828 , 37.95120517, 43.71151935, 45.71114032, 51.56299342,\n",
       "        55.59994035, 58.17270808, 63.39988965, 65.28784134, 68.31131046]))"
      ]
     },
     "execution_count": 159,
     "metadata": {},
     "output_type": "execute_result"
    }
   ],
   "source": [
    "test_2_train_neg.mean(axis=0)[:10], means[:10]"
   ]
  },
  {
   "cell_type": "code",
   "execution_count": 75,
   "metadata": {},
   "outputs": [
    {
     "name": "stdout",
     "output_type": "stream",
     "text": [
      "0\n",
      "              precision    recall  f1-score   support\n",
      "\n",
      "          -1       0.00      0.00      0.00     191.0\n",
      "           1       0.00      0.00      0.00     322.0\n",
      "\n",
      "    accuracy                           0.00     513.0\n",
      "   macro avg       0.00      0.00      0.00     513.0\n",
      "weighted avg       0.00      0.00      0.00     513.0\n",
      "\n",
      "\n",
      "\n",
      "\n",
      "1\n",
      "              precision    recall  f1-score   support\n",
      "\n",
      "          -1       0.00      0.00      0.00     191.0\n",
      "           1       0.00      0.00      0.00     322.0\n",
      "\n",
      "    accuracy                           0.00     513.0\n",
      "   macro avg       0.00      0.00      0.00     513.0\n",
      "weighted avg       0.00      0.00      0.00     513.0\n",
      "\n",
      "\n",
      "\n",
      "\n"
     ]
    }
   ],
   "source": [
    "for col in [0,1]:\n",
    "    print(col)\n",
    "    p = (train_2_train[:,col] >  3.403).astype(int)\n",
    "    p[p==0] = -1\n",
    "    print(classification_report(y_train, p))\n",
    "    print('\\n\\n')"
   ]
  },
  {
   "cell_type": "code",
   "execution_count": 76,
   "metadata": {},
   "outputs": [
    {
     "data": {
      "text/plain": [
       "[Text(0.5, 0.75, 'x[0] <= 3.403\\ngini = 0.467\\nsamples = 513\\nvalue = [191, 322]'),\n",
       " Text(0.25, 0.25, 'gini = 0.0\\nsamples = 322\\nvalue = [0, 322]'),\n",
       " Text(0.375, 0.5, 'True  '),\n",
       " Text(0.75, 0.25, 'gini = 0.0\\nsamples = 191\\nvalue = [191, 0]'),\n",
       " Text(0.625, 0.5, '  False')]"
      ]
     },
     "execution_count": 76,
     "metadata": {},
     "output_type": "execute_result"
    },
    {
     "data": {
      "image/png": "[encoded data removed]",
      "text/plain": [
       "<Figure size 640x480 with 1 Axes>"
      ]
     },
     "metadata": {},
     "output_type": "display_data"
    }
   ],
   "source": [
    "from sklearn.tree import plot_tree\n",
    "plot_tree(cur_clf)"
   ]
  },
  {
   "cell_type": "markdown",
   "metadata": {},
   "source": [
    "# Orig results\n",
    "\n",
    "As proof of concept it is a bit better than default linear kernel + dt."
   ]
  },
  {
   "cell_type": "markdown",
   "metadata": {},
   "source": [
    "## Run it for multiple datasets"
   ]
  },
  {
   "cell_type": "code",
   "execution_count": 90,
   "metadata": {},
   "outputs": [
    {
     "name": "stdout",
     "output_type": "stream",
     "text": [
      "orig\n",
      "              precision    recall  f1-score   support\n",
      "\n",
      "          -1       0.86      0.84      0.85       212\n",
      "           1       0.91      0.92      0.91       357\n",
      "\n",
      "    accuracy                           0.89       569\n",
      "   macro avg       0.89      0.88      0.88       569\n",
      "weighted avg       0.89      0.89      0.89       569\n",
      "\n",
      "[[178  34]\n",
      " [ 28 329]]\n",
      "\n",
      "\n",
      "\n",
      "signed\n",
      "              precision    recall  f1-score   support\n",
      "\n",
      "          -1       0.87      0.84      0.85       212\n",
      "           1       0.91      0.92      0.92       357\n",
      "\n",
      "    accuracy                           0.89       569\n",
      "   macro avg       0.89      0.88      0.88       569\n",
      "weighted avg       0.89      0.89      0.89       569\n",
      "\n",
      "[[178  34]\n",
      " [ 27 330]]\n",
      "\n",
      "\n",
      "\n",
      "signed_reduced\n",
      "              precision    recall  f1-score   support\n",
      "\n",
      "          -1       0.81      0.82      0.81       212\n",
      "           1       0.89      0.88      0.89       357\n",
      "\n",
      "    accuracy                           0.86       569\n",
      "   macro avg       0.85      0.85      0.85       569\n",
      "weighted avg       0.86      0.86      0.86       569\n",
      "\n",
      "[[174  38]\n",
      " [ 42 315]]\n",
      "\n",
      "\n",
      "\n"
     ]
    }
   ],
   "source": [
    "from sklearn.base import BaseEstimator, clone\n",
    "from sklearn.metrics import accuracy_score, f1_score\n",
    "\n",
    "class KernelBased(BaseEstimator):\n",
    "    \n",
    "    \n",
    "    def __init__(self, \n",
    "                 strategy='signed', \n",
    "                 metric='linear', \n",
    "                 clf=DecisionTreeClassifier(max_depth=None, random_state=random_state)):\n",
    "        \n",
    "        self.available_strategies = ['signed', 'orig', 'signed_reduced']\n",
    "        \n",
    "        self.clf = clf\n",
    "        self.strategy = strategy\n",
    "        if self.strategy not in self.available_strategies:\n",
    "            raise NotImplementedError(f\"Available strategies are: {self.available_strategies}. Was given {self.strategy}\")\n",
    "        self.metric = metric\n",
    "        self.X_train = []\n",
    "        self.y_train = []\n",
    "    \n",
    "    def fit(self, X, y):\n",
    "        \n",
    "        y[y==0] = -1\n",
    "        if set(y.tolist()) != set([-1,1]):\n",
    "            raise AttributeError(f\"Y is expected to be [-1,1] only but contains: {set(y)}\")\n",
    "        \n",
    "        self.X_train = X\n",
    "        self.y_train = y.reshape(1,-1)\n",
    "        \n",
    "        X_tr = self.transform(X)\n",
    "            \n",
    "        self.clf.fit(X_tr, y)\n",
    "        return self\n",
    "    \n",
    "    def predict(self, X):\n",
    "        X_tr = self.transform(X)\n",
    "        return self.clf.predict(X_tr)\n",
    "        \n",
    "    def predict_proba(self, X):\n",
    "        X_tr = self.transform(X)\n",
    "        return self.clf.predict_proba(X_tr)\n",
    "    \n",
    "    def transform(self, X):\n",
    "        X_2_train = pairwise_kernels(X, self.X_train, metric=self.metric)\n",
    "        if self.strategy == 'signed':\n",
    "            y_train_repeated = np.repeat(self.y_train, repeats=[X.shape[0]], axis=0)\n",
    "            X_2_train = X_2_train * y_train_repeated\n",
    "        # In this case we simply keep the min, max and mean distance to each label\n",
    "        # In total this will have 6 features (min, max, mean to class -1 and the same to class 1)\n",
    "        if self.strategy == 'signed_reduced':\n",
    "            pos_tr = X_2_train[:, self.y_train.flatten() == 1]\n",
    "            neg_tr = X_2_train[:, self.y_train.flatten() == -1]\n",
    "            feats = []\n",
    "            for tr in [pos_tr, neg_tr]:\n",
    "                for aggr in [np.min, np.max, np.mean]:\n",
    "                    feats.append(aggr(tr, axis=1))\n",
    "            X_2_train = np.vstack(feats).T\n",
    "            \n",
    "        return X_2_train\n",
    "\n",
    "y[y==0] = -1\n",
    "for strategy in ['orig', 'signed', 'signed_reduced']:\n",
    "    clf = KernelBased(strategy= strategy, metric='poly')\n",
    "    print(strategy)\n",
    "    y_pred = cross_val_predict(clf, X, y, cv=cv)\n",
    "    print(classification_report(y, y_pred))\n",
    "    print(confusion_matrix(y, y_pred))\n",
    "    print('\\n\\n')"
   ]
  },
  {
   "cell_type": "markdown",
   "metadata": {},
   "source": [
    "## Signed Reduced does not seem to work as is"
   ]
  },
  {
   "cell_type": "code",
   "execution_count": 53,
   "metadata": {},
   "outputs": [
    {
     "name": "stdout",
     "output_type": "stream",
     "text": [
      "63\n",
      "wdbc (1/64)\n",
      "vote (2/64)\n",
      "tokyo1 (3/64)\n",
      "tic_tac_toe (4/64)\n",
      "threeOf9 (5/64)\n",
      "spectf (6/64)\n",
      "spect (7/64)\n",
      "sonar (8/64)\n",
      "saheart (9/64)\n",
      "profb (10/64)\n"
     ]
    },
    {
     "name": "stderr",
     "output_type": "stream",
     "text": [
      "/home/kbougatiotis/miniconda3/envs/prime/lib/python3.9/site-packages/sklearn/metrics/_classification.py:1517: UndefinedMetricWarning: Precision is ill-defined and being set to 0.0 due to no predicted samples. Use `zero_division` parameter to control this behavior.\n",
      "  _warn_prf(average, modifier, f\"{metric.capitalize()} is\", len(result))\n",
      "/home/kbougatiotis/miniconda3/envs/prime/lib/python3.9/site-packages/sklearn/metrics/_classification.py:1517: UndefinedMetricWarning: Precision is ill-defined and being set to 0.0 due to no predicted samples. Use `zero_division` parameter to control this behavior.\n",
      "  _warn_prf(average, modifier, f\"{metric.capitalize()} is\", len(result))\n"
     ]
    },
    {
     "name": "stdout",
     "output_type": "stream",
     "text": [
      "prnn_synth (11/64)\n",
      "prnn_crabs (12/64)\n",
      "postoperative_patient_data (13/64)\n"
     ]
    },
    {
     "name": "stderr",
     "output_type": "stream",
     "text": [
      "/home/kbougatiotis/miniconda3/envs/prime/lib/python3.9/site-packages/sklearn/metrics/_classification.py:1517: UndefinedMetricWarning: Precision is ill-defined and being set to 0.0 due to no predicted samples. Use `zero_division` parameter to control this behavior.\n",
      "  _warn_prf(average, modifier, f\"{metric.capitalize()} is\", len(result))\n"
     ]
    },
    {
     "name": "stdout",
     "output_type": "stream",
     "text": [
      "pima (14/64)\n",
      "parity5 (15/64)\n",
      "mux6 (16/64)\n",
      "monk3 (17/64)\n",
      "monk2 (18/64)\n",
      "monk1 (19/64)\n",
      "molecular_biology_promoters (20/64)\n",
      "lupus (21/64)\n",
      "labor (22/64)\n",
      "irish (23/64)\n",
      "ionosphere (24/64)\n",
      "hungarian (25/64)\n"
     ]
    },
    {
     "name": "stderr",
     "output_type": "stream",
     "text": [
      "/home/kbougatiotis/miniconda3/envs/prime/lib/python3.9/site-packages/sklearn/metrics/_classification.py:1517: UndefinedMetricWarning: Precision is ill-defined and being set to 0.0 due to no predicted samples. Use `zero_division` parameter to control this behavior.\n",
      "  _warn_prf(average, modifier, f\"{metric.capitalize()} is\", len(result))\n"
     ]
    },
    {
     "name": "stdout",
     "output_type": "stream",
     "text": [
      "house_votes_84 (26/64)\n",
      "horse_colic (27/64)\n",
      "hepatitis (28/64)\n",
      "heart_statlog (29/64)\n",
      "heart_h (30/64)\n",
      "heart_c (31/64)\n",
      "haberman (32/64)\n",
      "glass2 (33/64)\n"
     ]
    },
    {
     "name": "stderr",
     "output_type": "stream",
     "text": [
      "/home/kbougatiotis/miniconda3/envs/prime/lib/python3.9/site-packages/sklearn/metrics/_classification.py:1517: UndefinedMetricWarning: Precision is ill-defined and being set to 0.0 due to no predicted samples. Use `zero_division` parameter to control this behavior.\n",
      "  _warn_prf(average, modifier, f\"{metric.capitalize()} is\", len(result))\n",
      "/home/kbougatiotis/miniconda3/envs/prime/lib/python3.9/site-packages/sklearn/metrics/_classification.py:1517: UndefinedMetricWarning: Precision is ill-defined and being set to 0.0 due to no predicted samples. Use `zero_division` parameter to control this behavior.\n",
      "  _warn_prf(average, modifier, f\"{metric.capitalize()} is\", len(result))\n"
     ]
    },
    {
     "name": "stdout",
     "output_type": "stream",
     "text": [
      "german (34/64)\n",
      "diabetes (35/64)\n",
      "crx (36/64)\n",
      "credit_g (37/64)\n",
      "credit_a (38/64)\n",
      "corral (39/64)\n",
      "colic (40/64)\n",
      "cleve (41/64)\n",
      "bupa (42/64)\n",
      "buggyCrx (43/64)\n",
      "breast_w (44/64)\n",
      "breast_cancer_wisconsin (45/64)\n",
      "breast_cancer (46/64)\n",
      "breast (47/64)\n"
     ]
    },
    {
     "name": "stderr",
     "output_type": "stream",
     "text": [
      "/home/kbougatiotis/miniconda3/envs/prime/lib/python3.9/site-packages/sklearn/metrics/_classification.py:1517: UndefinedMetricWarning: Precision is ill-defined and being set to 0.0 due to no predicted samples. Use `zero_division` parameter to control this behavior.\n",
      "  _warn_prf(average, modifier, f\"{metric.capitalize()} is\", len(result))\n",
      "/home/kbougatiotis/miniconda3/envs/prime/lib/python3.9/site-packages/sklearn/metrics/_classification.py:1517: UndefinedMetricWarning: Precision is ill-defined and being set to 0.0 due to no predicted samples. Use `zero_division` parameter to control this behavior.\n",
      "  _warn_prf(average, modifier, f\"{metric.capitalize()} is\", len(result))\n"
     ]
    },
    {
     "name": "stdout",
     "output_type": "stream",
     "text": [
      "biomed (48/64)\n",
      "backache (49/64)\n"
     ]
    },
    {
     "name": "stderr",
     "output_type": "stream",
     "text": [
      "/home/kbougatiotis/miniconda3/envs/prime/lib/python3.9/site-packages/sklearn/metrics/_classification.py:1517: UndefinedMetricWarning: Precision is ill-defined and being set to 0.0 due to no predicted samples. Use `zero_division` parameter to control this behavior.\n",
      "  _warn_prf(average, modifier, f\"{metric.capitalize()} is\", len(result))\n",
      "/home/kbougatiotis/miniconda3/envs/prime/lib/python3.9/site-packages/sklearn/metrics/_classification.py:1517: UndefinedMetricWarning: Precision is ill-defined and being set to 0.0 due to no predicted samples. Use `zero_division` parameter to control this behavior.\n",
      "  _warn_prf(average, modifier, f\"{metric.capitalize()} is\", len(result))\n"
     ]
    },
    {
     "name": "stdout",
     "output_type": "stream",
     "text": [
      "australian (50/64)\n",
      "appendicitis (51/64)\n",
      "analcatdata_lawsuit (52/64)\n",
      "analcatdata_japansolvent (53/64)\n",
      "analcatdata_fraud (54/64)\n"
     ]
    },
    {
     "name": "stderr",
     "output_type": "stream",
     "text": [
      "/home/kbougatiotis/miniconda3/envs/prime/lib/python3.9/site-packages/sklearn/metrics/_classification.py:1517: UndefinedMetricWarning: Precision is ill-defined and being set to 0.0 due to no predicted samples. Use `zero_division` parameter to control this behavior.\n",
      "  _warn_prf(average, modifier, f\"{metric.capitalize()} is\", len(result))\n",
      "/home/kbougatiotis/miniconda3/envs/prime/lib/python3.9/site-packages/sklearn/metrics/_classification.py:1517: UndefinedMetricWarning: Precision is ill-defined and being set to 0.0 due to no predicted samples. Use `zero_division` parameter to control this behavior.\n",
      "  _warn_prf(average, modifier, f\"{metric.capitalize()} is\", len(result))\n"
     ]
    },
    {
     "name": "stdout",
     "output_type": "stream",
     "text": [
      "analcatdata_cyyoung9302 (55/64)\n"
     ]
    },
    {
     "name": "stderr",
     "output_type": "stream",
     "text": [
      "/home/kbougatiotis/miniconda3/envs/prime/lib/python3.9/site-packages/sklearn/metrics/_classification.py:1517: UndefinedMetricWarning: Precision is ill-defined and being set to 0.0 due to no predicted samples. Use `zero_division` parameter to control this behavior.\n",
      "  _warn_prf(average, modifier, f\"{metric.capitalize()} is\", len(result))\n",
      "/home/kbougatiotis/miniconda3/envs/prime/lib/python3.9/site-packages/sklearn/metrics/_classification.py:1517: UndefinedMetricWarning: Precision is ill-defined and being set to 0.0 due to no predicted samples. Use `zero_division` parameter to control this behavior.\n",
      "  _warn_prf(average, modifier, f\"{metric.capitalize()} is\", len(result))\n"
     ]
    },
    {
     "name": "stdout",
     "output_type": "stream",
     "text": [
      "analcatdata_cyyoung8092 (56/64)\n"
     ]
    },
    {
     "name": "stderr",
     "output_type": "stream",
     "text": [
      "/home/kbougatiotis/miniconda3/envs/prime/lib/python3.9/site-packages/sklearn/metrics/_classification.py:1517: UndefinedMetricWarning: Precision is ill-defined and being set to 0.0 due to no predicted samples. Use `zero_division` parameter to control this behavior.\n",
      "  _warn_prf(average, modifier, f\"{metric.capitalize()} is\", len(result))\n",
      "/home/kbougatiotis/miniconda3/envs/prime/lib/python3.9/site-packages/sklearn/metrics/_classification.py:1517: UndefinedMetricWarning: Precision is ill-defined and being set to 0.0 due to no predicted samples. Use `zero_division` parameter to control this behavior.\n",
      "  _warn_prf(average, modifier, f\"{metric.capitalize()} is\", len(result))\n"
     ]
    },
    {
     "name": "stdout",
     "output_type": "stream",
     "text": [
      "analcatdata_creditscore (57/64)\n",
      "analcatdata_boxing2 (58/64)\n",
      "analcatdata_boxing1 (59/64)\n",
      "analcatdata_bankruptcy (60/64)\n",
      "analcatdata_asbestos (61/64)\n",
      "analcatdata_aids (62/64)\n",
      "            model      rank\n",
      "0              DT  2.064516\n",
      "3      linear_svm  3.032258\n",
      "4        poly_svm  3.161290\n",
      "1    linear_orig_  3.354839\n",
      "2  linear_signed_  3.387097\n"
     ]
    },
    {
     "name": "stderr",
     "output_type": "stream",
     "text": [
      "/tmp/ipykernel_2921602/822336845.py:97: DeprecationWarning: DataFrameGroupBy.apply operated on the grouping columns. This behavior is deprecated, and in a future version of pandas the grouping columns will be excluded from the operation. Either pass `include_groups=False` to exclude the groupings or explicitly select the grouping columns after groupby to silence this warning.\n",
      "  sorted_df = res.groupby('dataset').apply(lambda x: x.sort_values(by='f1', ascending=False)).reset_index(drop=True)\n"
     ]
    }
   ],
   "source": [
    "from sklearn.neighbors import KNeighborsClassifier\n",
    "from sklearn.svm import SVC\n",
    "from sklearn.pipeline import Pipeline\n",
    "from sklearn.tree import DecisionTreeClassifier\n",
    "from sklearn.model_selection import StratifiedKFold, cross_val_predict\n",
    "import numpy as np\n",
    "import pandas as pd\n",
    "from sympy import re\n",
    "from torch import rand\n",
    "import cached_path\n",
    "import time\n",
    "from sklearn.metrics import classification_report, accuracy_score, precision_recall_fscore_support\n",
    "\n",
    "\n",
    "\n",
    "random_state = 42\n",
    "\n",
    "number_of_cv_folds = 5\n",
    "\n",
    "cv = StratifiedKFold(number_of_cv_folds, random_state=random_state, shuffle=True)\n",
    "\n",
    "model_names = [\n",
    "    \"DT\",\n",
    "    'linear_svm',\n",
    "    'poly_svm',\n",
    "    'linear_orig_',\n",
    "    'linear_signed_',\n",
    "    #'poly_orig_',\n",
    "    #'poly_signed_',\n",
    "]\n",
    "\n",
    "\n",
    "def set_seeds(seed=42):\n",
    "    np.random.seed(seed)\n",
    "    \n",
    "\n",
    "set_seeds(random_state)\n",
    "\n",
    "path_to_data_summary = \"https://raw.githubusercontent.com/EpistasisLab/pmlb/master/pmlb/all_summary_stats.tsv\"\n",
    "dataset_df = pd.read_csv(cached_path.cached_path(path_to_data_summary), sep=\"\\t\")\n",
    "\n",
    "classification_datasets = dataset_df[\n",
    "    # (dataset_df[\"n_binary_features\"] == dataset_df[\"n_features\"])\n",
    "    (dataset_df[\"task\"] == \"classification\")\n",
    "    & (dataset_df[\"n_classes\"] == 2)\n",
    "    & (dataset_df[\"n_features\"] <= 100)\n",
    "    & (dataset_df[\"n_instances\"] <= 1000)\n",
    "][\"dataset\"]\n",
    "\n",
    "print(len(classification_datasets))\n",
    "\n",
    "res = []\n",
    "for dataset_index, classification_dataset in enumerate(classification_datasets[::-1][1:]):\n",
    "    \n",
    "    print(f\"{classification_dataset} ({dataset_index + 1}/{len(classification_datasets) + 1})\")\n",
    "    X, y = fetch_data(classification_dataset, return_X_y=True)\n",
    "    if y.max() != 1 or y.min() != 0:\n",
    "        for wanted, actual in enumerate(np.unique(y)):\n",
    "            y[y==actual] = wanted\n",
    "    y[y==0] = -1\n",
    "\n",
    "    \n",
    "        # train_X, test_X, train_y, test_y = train_test_split(\n",
    "        #     X, y, stratify=y, test_size=0.2, random_state=random_state\n",
    "        # )\n",
    "    for model_name in model_names:\n",
    "        #print(model_name)\n",
    "        if \"DT\" in model_name:\n",
    "            clf = DecisionTreeClassifier(\n",
    "                random_state=random_state\n",
    "            )\n",
    "        elif 'svm' in model_name:\n",
    "            if 'linear' in model_name:\n",
    "                clf = SVC()\n",
    "            else:\n",
    "                clf = SVC(kernel='poly')\n",
    "        else: \n",
    "            details = model_name.split('_')\n",
    "            metric, strategy = details[0], details[1]\n",
    "            clf = KernelBased(strategy=strategy, metric=metric)\n",
    "        model = clf\n",
    "        time_s = time.time()\n",
    "\n",
    "        y_pred = cross_val_predict(model, X, y, cv=cv).astype(int)\n",
    "        acc = accuracy_score(y, y_pred)\n",
    "        (prec, rec, f1, sup) = precision_recall_fscore_support(\n",
    "            y, y_pred, average=\"binary\"\n",
    "        )\n",
    "        time_end = time.time() - time_s\n",
    "        res.append((classification_dataset, model_name, time_end, acc, prec, rec, f1, sup))\n",
    "        #print(res[-1])\n",
    "\n",
    "res = pd.DataFrame(res, columns=['dataset', 'model', 'time', 'acc', 'pr', 'rec', 'f1', 'sup'])\n",
    "# res.sort_values('f1', ascending=False)\n",
    "\n",
    "# Step 2: Sort each group by 'f1'\n",
    "sorted_df = res.groupby('dataset').apply(lambda x: x.sort_values(by='f1', ascending=False)).reset_index(drop=True)\n",
    "\n",
    "# Step 3: Assign ranks within each group\n",
    "sorted_df['rank'] = sorted_df.groupby('dataset').cumcount() + 1\n",
    "\n",
    "# Step 4: Calculate mean rank for each model across all datasets\n",
    "mean_ranks = sorted_df.groupby('model')['rank'].mean().reset_index().sort_values(by='rank')\n",
    "\n",
    "print(mean_ranks)"
   ]
  },
  {
   "cell_type": "code",
   "execution_count": 59,
   "metadata": {},
   "outputs": [
    {
     "name": "stdout",
     "output_type": "stream",
     "text": [
      "WINS\n",
      "                  DT  linear_svm  poly_svm  linear_signed_  linear_orig_\n",
      "DT               0.0        42.0      41.0            47.0          45.0\n",
      "linear_svm      19.0         0.0      26.0            33.0          34.0\n",
      "poly_svm        19.0        26.0       0.0            32.0          34.0\n",
      "linear_signed_  14.0        29.0      28.0             0.0          29.0\n",
      "linear_orig_    14.0        28.0      27.0            23.0           0.0\n"
     ]
    }
   ],
   "source": [
    "#  res.groupby('dataset').apply(lambda x: x.sort_values(by='f1', ascending=False))\n",
    "wins_score = np.zeros((len(model_names), len(model_names)))\n",
    "\n",
    "score_to_use = 'f1'\n",
    "\n",
    "for classification_dataset in res['dataset'].unique():\n",
    "    cur_df = res[res['dataset'] == classification_dataset]\n",
    "    # print(classification_dataset)\n",
    "    # print(cur_df.sort_values('f1', ascending=False)[['model', 'time', 'acc', 'f1']])\n",
    "    # print()\n",
    "    cur_df = cur_df.set_index('model')\n",
    "    score_metric = cur_df[score_to_use]\n",
    "    for i, m1 in enumerate(model_names):\n",
    "        for j, m2 in enumerate(model_names[i:]):\n",
    "            if cur_df.loc[m1][score_to_use] > cur_df.loc[m2][score_to_use]:\n",
    "                wins_score[i, j+i] += 1\n",
    "            elif cur_df.loc[m1][score_to_use] < cur_df.loc[m2][score_to_use]:\n",
    "                wins_score[j+i, i] += 1\n",
    "            else:\n",
    "                pass\n",
    "order_of_models = wins_score.mean(axis=1).argsort()[::-1]\n",
    "wins_score = wins_score[order_of_models, :][:, order_of_models]\n",
    "print('WINS')\n",
    "print(pd.DataFrame(wins_score, columns = np.array(model_names)[order_of_models], index=np.array(model_names)[order_of_models]))"
   ]
  },
  {
   "cell_type": "markdown",
   "metadata": {},
   "source": [
    "## Pairwise signing of the gramm matrix\n",
    "\n",
    "\n",
    "1. For the train gramm matrix, sign it based on the pairwise KNOWN labels with -1 for different and + 1 with same.\n",
    "2. Do the same at test time, by creating two X_test_to_train distance matrices where we assume different labels for each test sample. e.g. test_sample_1 being of label 1 or -1, test_sample_2 being of label 1 or 1\n",
    "3. \n"
   ]
  },
  {
   "cell_type": "code",
   "execution_count": null,
   "metadata": {},
   "outputs": [],
   "source": [
    "0, -0.5, +0.5, -0.5"
   ]
  },
  {
   "cell_type": "code",
   "execution_count": 16,
   "metadata": {},
   "outputs": [
    {
     "data": {
      "text/plain": [
       "array([0.2438466, 0.2438466, 0.2438466])"
      ]
     },
     "execution_count": 16,
     "metadata": {},
     "output_type": "execute_result"
    }
   ],
   "source": [
    "X_train = [[+0.0, -0.5, +0.3], \n",
    "           [-0.5, +0.0, -0.7], \n",
    "           [+0.3, +0.5, +0.0]]\n",
    " \n",
    "X_tr = np.array(X_train)\n",
    "\n",
    "means = np.mean(X_tr, axis=0)\n",
    "stds = np.cov(X_tr, rowvar=False)\n",
    "\n",
    "from scipy.stats import multivariate_normal\n",
    "\n",
    "g = multivariate_normal(means, stds, allow_singular=True, seed=42)\n",
    "g.pdf(X_train)"
   ]
  },
  {
   "cell_type": "code",
   "execution_count": 19,
   "metadata": {},
   "outputs": [
    {
     "data": {
      "text/plain": [
       "array([-0.06666667,  0.        , -0.13333333])"
      ]
     },
     "execution_count": 19,
     "metadata": {},
     "output_type": "execute_result"
    }
   ],
   "source": [
    "means"
   ]
  },
  {
   "cell_type": "code",
   "execution_count": 17,
   "metadata": {},
   "outputs": [
    {
     "data": {
      "text/plain": [
       "array([0., 0.])"
      ]
     },
     "execution_count": 17,
     "metadata": {},
     "output_type": "execute_result"
    }
   ],
   "source": [
    "g.pdf(np.array([[+0.2, -0.8, +0.4], [-0.2, +0.8, -0.4]]))"
   ]
  },
  {
   "cell_type": "code",
   "execution_count": null,
   "metadata": {},
   "outputs": [],
   "source": [
    "X_train = [[0, 0.5, 0.3], \n",
    "           [0.5, 0, 0.7], \n",
    "           [0.3, 0.5, 0]] - > X_train * y_train [1,-1,1] - >\n",
    " \n",
    "X_train = [[+0.0, -0.5, +0.3], \n",
    "           [-0.5, +0.0, -0.7], \n",
    "           [+0.3, +0.5, +0.0]] \n",
    " \n",
    "X_train = [[1, -1, +1], -> 1\n",
    "           [-1, 1, -1], -> -1\n",
    "           [1, -1, 1]] -> 1\n",
    "\n",
    "\n",
    "\n",
    "\n",
    "X_test =  [[0.2, 0.8, 0.4]] * y_train  = [[+0.2, -0,8, +0.4]] \n",
    "\n",
    "# if test label 1\n",
    "X_test =  [[+0.2, -0.8, +0.4]]\n",
    "\n",
    "X_test_1 = [1,-1,1], - > proba_pos = 0.6\n",
    "# if test label -1 \n",
    "X_test =  [[-0.2, +0.8, -0.4]]\n",
    "\n",
    "X_test__1 = [-1,1,-1]  - > proba_pos = 0.1"
   ]
  },
  {
   "cell_type": "markdown",
   "metadata": {},
   "source": [
    "p(f_test | l_test=1, X), p(f_test | l_test=-1, X)"
   ]
  }
 ],
 "metadata": {
  "kernelspec": {
   "display_name": "prime",
   "language": "python",
   "name": "python3"
  },
  "language_info": {
   "codemirror_mode": {
    "name": "ipython",
    "version": 3
   },
   "file_extension": ".py",
   "mimetype": "text/x-python",
   "name": "python",
   "nbconvert_exporter": "python",
   "pygments_lexer": "ipython3",
   "version": "3.9.18"
  },
  "orig_nbformat": 4
 },
 "nbformat": 4,
 "nbformat_minor": 2
}
