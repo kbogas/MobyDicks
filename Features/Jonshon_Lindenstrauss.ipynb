{
 "cells": [
  {
   "cell_type": "markdown",
   "metadata": {},
   "source": [
    "## Name: What is the effect of the Random Projections in terms of accuracy\n",
    "### Date: 28/8/2024\n",
    "### Status: It seems to work with kNN based things.. It did not work with DT as a classifier. For kNN, in dataset 1 we have the same performance while with dataset 2 we have a very small increase in average F1 score.\n",
    "\n",
    "### Idea: \n",
    "Following [Johnson-Lindenstrauss](https://en.wikipedia.org/wiki/Johnson%E2%80%93Lindenstrauss_lemma), check whether the reduced dimensionality of the random (or Gaussian projections) help.\n",
    "i.e. transform  NxF to NxF' with F' << F and check a classifier on the transformed data.\n",
    "\n",
    "### Results:\n",
    "Tried with 2 different datasets from UCI.\n",
    "1. TCGA RNA sequences for cancer types with 4 classes, 801 x 20.5K features\n",
    "2. Farm Ads with precomputed BoW represenentations with 2 classes, 4K x 55K features\n",
    "\n",
    "The results are (with eps=0.1):\n",
    "1. 20.5K features -> 5.7K (72% reduction) features but **accuracy drops from 0.97 avg to 0.93**\n",
    "2. 55K features -> 7K  features (87% reduction) features but **accuracy drops from 0.86 avg to 0.78**\n",
    "\n",
    "Not much difference when using Gauss or Sparse. \n",
    "\n",
    "Also, changing eps=0.5 did not improve greatly results. For the 2nd dataset the change was: 55K features -> 27.5K  features (50% reduction) features but **accuracy drops from 0.86 avg to 0.80**."
   ]
  },
  {
   "cell_type": "code",
   "execution_count": 91,
   "metadata": {},
   "outputs": [],
   "source": [
    "import pandas as pd\n",
    "df = pd.read_csv(\"../data/Johnson_Lindenstrauss/TCGA-PANCAN-HiSeq-801x20531/data.csv\", index_col=0)\n",
    "labels = pd.read_csv(\"../data/Johnson_Lindenstrauss/TCGA-PANCAN-HiSeq-801x20531/labels.csv\", index_col=0)\n",
    "labels = labels.values.ravel()\n",
    "X = df.values"
   ]
  },
  {
   "cell_type": "code",
   "execution_count": 62,
   "metadata": {},
   "outputs": [
    {
     "data": {
      "text/plain": [
       "(Class\n",
       " BRCA     300\n",
       " KIRC     146\n",
       " LUAD     141\n",
       " PRAD     136\n",
       " COAD      78\n",
       " Name: count, dtype: int64,\n",
       " (801, 20531))"
      ]
     },
     "execution_count": 62,
     "metadata": {},
     "output_type": "execute_result"
    }
   ],
   "source": [
    "labels.value_counts(), X.shape"
   ]
  },
  {
   "cell_type": "code",
   "execution_count": 96,
   "metadata": {},
   "outputs": [
    {
     "name": "stdout",
     "output_type": "stream",
     "text": [
      "(4143, 54877) [1933 2210]\n"
     ]
    }
   ],
   "source": [
    "from sklearn.datasets import load_svmlight_file\n",
    "import numpy as np\n",
    "\n",
    "X, labels = load_svmlight_file(\"../data/Johnson_Lindenstrauss/Farm_Ads/farm-ads-vect\")\n",
    "print(X.shape, np.bincount((labels + 1 /2).astype(int)))"
   ]
  },
  {
   "cell_type": "code",
   "execution_count": 97,
   "metadata": {},
   "outputs": [
    {
     "name": "stdout",
     "output_type": "stream",
     "text": [
      "(4143, 54877)\n"
     ]
    }
   ],
   "source": [
    "from sklearn.tree import DecisionTreeClassifier\n",
    "from sklearn.neighbors import KNeighborsClassifier\n",
    "from sklearn.model_selection import StratifiedKFold, cross_val_predict\n",
    "\n",
    "random_state = 42\n",
    "number_of_cv_folds = 5\n",
    "\n",
    "max_depth = None\n",
    "\n",
    "print(X.shape)\n",
    "\n",
    "cv = StratifiedKFold(number_of_cv_folds, random_state=random_state, shuffle=True)\n",
    "clf = KNeighborsClassifier()#DecisionTreeClassifier(random_state=random_state, max_depth=max_depth)\n",
    "y_pred = cross_val_predict(clf, X, labels, cv=cv)"
   ]
  },
  {
   "cell_type": "code",
   "execution_count": 98,
   "metadata": {},
   "outputs": [
    {
     "name": "stdout",
     "output_type": "stream",
     "text": [
      "              precision    recall  f1-score   support\n",
      "\n",
      "        -1.0       0.67      0.95      0.79      1933\n",
      "         1.0       0.93      0.59      0.72      2210\n",
      "\n",
      "    accuracy                           0.76      4143\n",
      "   macro avg       0.80      0.77      0.75      4143\n",
      "weighted avg       0.81      0.76      0.75      4143\n",
      "\n",
      "[[1832  101]\n",
      " [ 900 1310]]\n"
     ]
    }
   ],
   "source": [
    "from sklearn.metrics import classification_report, confusion_matrix\n",
    "print(classification_report(labels, y_pred))\n",
    "print(confusion_matrix(labels, y_pred))"
   ]
  },
  {
   "cell_type": "code",
   "execution_count": 99,
   "metadata": {},
   "outputs": [
    {
     "name": "stdout",
     "output_type": "stream",
     "text": [
      "(4143, 27572)\n"
     ]
    }
   ],
   "source": [
    "from sklearn.random_projection import SparseRandomProjection, GaussianRandomProjection\n",
    "\n",
    "sp = SparseRandomProjection(eps=0.05) #GaussianRandomProjection(eps=0.1)#SparseRandomProjection(eps=0.1)\n",
    "X_tr = sp.fit_transform(X)\n",
    "print(X_tr.shape)"
   ]
  },
  {
   "cell_type": "code",
   "execution_count": 100,
   "metadata": {},
   "outputs": [
    {
     "name": "stdout",
     "output_type": "stream",
     "text": [
      "              precision    recall  f1-score   support\n",
      "\n",
      "        -1.0       0.67      0.95      0.78      1933\n",
      "         1.0       0.93      0.59      0.72      2210\n",
      "\n",
      "    accuracy                           0.76      4143\n",
      "   macro avg       0.80      0.77      0.75      4143\n",
      "weighted avg       0.81      0.76      0.75      4143\n",
      "\n",
      "[[1835   98]\n",
      " [ 911 1299]]\n"
     ]
    }
   ],
   "source": [
    "from sklearn.metrics import classification_report, confusion_matrix\n",
    "\n",
    "# clf = DecisionTreeClassifier(random_state=random_state, max_depth=max_depth)\n",
    "y_pred = cross_val_predict(clf, X_tr, labels, cv=cv)\n",
    "\n",
    "print(classification_report(labels, y_pred))\n",
    "print(confusion_matrix(labels, y_pred))"
   ]
  },
  {
   "cell_type": "code",
   "execution_count": null,
   "metadata": {},
   "outputs": [],
   "source": []
  }
 ],
 "metadata": {
  "kernelspec": {
   "display_name": "Python 3.9.18 ('prime')",
   "language": "python",
   "name": "python3"
  },
  "language_info": {
   "codemirror_mode": {
    "name": "ipython",
    "version": 3
   },
   "file_extension": ".py",
   "mimetype": "text/x-python",
   "name": "python",
   "nbconvert_exporter": "python",
   "pygments_lexer": "ipython3",
   "version": "3.9.18"
  },
  "orig_nbformat": 4,
  "vscode": {
   "interpreter": {
    "hash": "f4fa59517bfe49ac29cd98422e2726afe900359f15de8a790b285c6b6179cda3"
   }
  }
 },
 "nbformat": 4,
 "nbformat_minor": 2
}
