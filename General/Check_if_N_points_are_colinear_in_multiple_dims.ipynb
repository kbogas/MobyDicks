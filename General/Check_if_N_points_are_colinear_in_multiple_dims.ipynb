{
 "cells": [
  {
   "cell_type": "markdown",
   "metadata": {},
   "source": [
    "## Name: Check co-linearity of N point in an N-dimensional space.\n",
    "### Date: 01/11/2024\n",
    "### Status: Done. Interesting findings all around\n",
    "### Idea: \n",
    "Check if the points are co-linear by:\n",
    "\n",
    "1. Taking the difference of two of them (generating the `slope` vector): $slope = X[0] - X[1]$.\n",
    "2. Check that every other element is a multiple of this slope vector: $(slope - X[i])/slope = \\hat{\\lambda}$, where ($\\hat{\\lambda}$ is a vector with constant values $\\lambda$)\n",
    "\n",
    "Points of interest:\n",
    "1. To account for offset of the data in any dimension we first need to center the data, across dimensions in 0 i.e. using StandardScaler().\n",
    "2. This process is similar to calling `np.linalg.matrix_rank`, but by printing the values we can get a more qualitative look on the results in the presence of noise.\n",
    "\n",
    "### Results:\n",
    "Works!\n",
    "Better to use the hand-crafted method in the presence of noise. Else, use rank.\n"
   ]
  },
  {
   "cell_type": "markdown",
   "metadata": {},
   "source": [
    "## Case 1 : No offset (zero-centered), No noise\n"
   ]
  },
  {
   "cell_type": "code",
   "execution_count": 1,
   "metadata": {},
   "outputs": [
    {
     "name": "stdout",
     "output_type": "stream",
     "text": [
      "Base [1 2 3 4 5 6 7 8 9]\n",
      "Scales [-10  -9  -8  -7  -6  -5  -4  -3  -2  -1   1   2   3   4   5   6   7   8\n",
      "   9]\n"
     ]
    }
   ],
   "source": [
    "import numpy as np\n",
    "\n",
    "# the base array in 10 dimensions\n",
    "base_array = np.arange(1,10)\n",
    "\n",
    "# The 20 scaled variants of this\n",
    "scales = np.arange(-10,10)\n",
    "scales = scales[scales != 0]\n",
    "\n",
    "print(\"Base\", base_array)\n",
    "print(\"Scales\", scales)"
   ]
  },
  {
   "cell_type": "code",
   "execution_count": 2,
   "metadata": {},
   "outputs": [
    {
     "name": "stdout",
     "output_type": "stream",
     "text": [
      "The whole space with the 20 points\n",
      "The rank is:\n"
     ]
    },
    {
     "data": {
      "text/plain": [
       "1"
      ]
     },
     "execution_count": 2,
     "metadata": {},
     "output_type": "execute_result"
    }
   ],
   "source": [
    "print('The whole space with the 20 points')\n",
    "space = np.einsum('i,j->ij', scales, base_array)\n",
    "\n",
    "print(\"The rank is:\")\n",
    "np.linalg.matrix_rank(space)"
   ]
  },
  {
   "cell_type": "code",
   "execution_count": 31,
   "metadata": {},
   "outputs": [
    {
     "name": "stdout",
     "output_type": "stream",
     "text": [
      "0.0\n",
      "0.0\n",
      "0.0\n",
      "0.0\n",
      "0.0\n",
      "0.0\n",
      "0.0\n",
      "0.0\n",
      "0.0\n",
      "0.0\n",
      "0.0\n",
      "0.0\n",
      "0.0\n",
      "0.0\n",
      "0.0\n",
      "0.0\n",
      "0.0\n"
     ]
    }
   ],
   "source": [
    "def print_diffs(space, print_std=True):\n",
    "    \n",
    "    start_point = space[0] - space[1]\n",
    "    to_return = []\n",
    "    for other_point in space[2:]:\n",
    "        scaled_diff = (start_point - other_point)/start_point\n",
    "        if print_std:\n",
    "            std = scaled_diff.std()\n",
    "            to_return.append(std)\n",
    "            print(std)\n",
    "        else:\n",
    "            print(scaled_diff)\n",
    "            to_return.append(scaled_diff)\n",
    "    return np.array(to_return)\n",
    "                \n",
    "print_diffs(space);"
   ]
  },
  {
   "cell_type": "markdown",
   "metadata": {},
   "source": [
    "As expected the average std of each element towards the slope is 0.\n"
   ]
  },
  {
   "cell_type": "markdown",
   "metadata": {},
   "source": [
    "## Case 1 : With offset, No noise\n",
    "\n",
    "Let's offset the line on which the planes lay."
   ]
  },
  {
   "cell_type": "code",
   "execution_count": 4,
   "metadata": {},
   "outputs": [
    {
     "data": {
      "text/plain": [
       "2"
      ]
     },
     "execution_count": 4,
     "metadata": {},
     "output_type": "execute_result"
    }
   ],
   "source": [
    "space_with_offset = space + 10\n",
    "np.linalg.matrix_rank(space_with_offset)"
   ]
  },
  {
   "cell_type": "code",
   "execution_count": 32,
   "metadata": {},
   "outputs": [
    {
     "name": "stdout",
     "output_type": "stream",
     "text": [
      "2.6885326206904914\n",
      "2.6885326206904914\n",
      "2.6885326206904914\n",
      "2.6885326206904914\n",
      "2.6885326206904914\n",
      "2.6885326206904914\n",
      "2.6885326206904914\n",
      "2.6885326206904914\n",
      "2.6885326206904914\n",
      "2.6885326206904914\n",
      "2.6885326206904914\n",
      "2.6885326206904914\n",
      "2.6885326206904914\n",
      "2.6885326206904914\n",
      "2.6885326206904914\n",
      "2.6885326206904914\n",
      "2.6885326206904914\n"
     ]
    }
   ],
   "source": [
    "print_diffs(space_with_offset);"
   ]
  },
  {
   "cell_type": "markdown",
   "metadata": {},
   "source": [
    "As we can see the matrix rank fails, and so does the std visual method (we expected 0 in everything).\n",
    "\n",
    "However, the std version, is more robust as the std is constant across the vectors indicating that all of them have the same std over the original diff slope."
   ]
  },
  {
   "cell_type": "markdown",
   "metadata": {},
   "source": [
    "## Case 2 : With offset, and noise"
   ]
  },
  {
   "cell_type": "code",
   "execution_count": 34,
   "metadata": {},
   "outputs": [],
   "source": [
    "eps = 10\n",
    "noise = np.random.uniform(low=-eps, high=+eps, size=space.shape)\n",
    "space_with_offset_and_noise = space_with_offset + noise "
   ]
  },
  {
   "cell_type": "code",
   "execution_count": 35,
   "metadata": {},
   "outputs": [
    {
     "data": {
      "text/plain": [
       "9"
      ]
     },
     "execution_count": 35,
     "metadata": {},
     "output_type": "execute_result"
    }
   ],
   "source": [
    "np.linalg.matrix_rank(space_with_offset_and_noise)"
   ]
  },
  {
   "cell_type": "code",
   "execution_count": 36,
   "metadata": {},
   "outputs": [
    {
     "name": "stdout",
     "output_type": "stream",
     "text": [
      "12.828156857526189\n",
      "7.834757438911808\n",
      "6.5121009952652456\n",
      "3.5881983720222403\n",
      "7.214284610980746\n",
      "2.57907001209209\n",
      "2.2153344533740884\n",
      "1.9577785528471494\n",
      "5.645144933006594\n",
      "12.0913806257172\n",
      "10.365411394945516\n",
      "9.865728831634378\n",
      "16.476541328769436\n",
      "18.060358202349033\n",
      "20.41647078925691\n",
      "17.618416244471895\n",
      "25.465458452893188\n"
     ]
    }
   ],
   "source": [
    "print_diffs(space_with_offset_and_noise);"
   ]
  },
  {
   "cell_type": "markdown",
   "metadata": {},
   "source": [
    "As we can see the matrix rank fails, and so does the std visual method."
   ]
  },
  {
   "cell_type": "markdown",
   "metadata": {},
   "source": [
    "However, when the noise is more managable/realistic the iterative method can be more helpful than the rank one."
   ]
  },
  {
   "cell_type": "code",
   "execution_count": 49,
   "metadata": {},
   "outputs": [
    {
     "name": "stdout",
     "output_type": "stream",
     "text": [
      "Rank: 9\n",
      "2.688318536165365\n",
      "2.6878411189758427\n",
      "2.6877857432418977\n",
      "2.6874410898954757\n",
      "2.687138044410977\n",
      "2.68679818976248\n",
      "2.6866864050259696\n",
      "2.6859656080542473\n",
      "2.6859909276638954\n",
      "2.6855619609114747\n",
      "2.6859144359666036\n",
      "2.6853230165563216\n",
      "2.6854586101255595\n",
      "2.6845495206171104\n",
      "2.6851336665163856\n",
      "2.6847815891729585\n",
      "2.684312538755308\n"
     ]
    }
   ],
   "source": [
    "eps = 0.001\n",
    "noise = np.random.normal(loc=0, scale=eps, size=space.shape)\n",
    "space_with_offset_and_noise = space_with_offset + noise \n",
    "print(f\"Rank: {np.linalg.matrix_rank(space_with_offset_and_noise)}\")\n",
    "print_diffs(space_with_offset_and_noise);"
   ]
  },
  {
   "cell_type": "markdown",
   "metadata": {},
   "source": [
    "We can see that although the std's are not exactly similar we can see that they are very close to its other!"
   ]
  }
 ],
 "metadata": {
  "kernelspec": {
   "display_name": "prime",
   "language": "python",
   "name": "python3"
  },
  "language_info": {
   "codemirror_mode": {
    "name": "ipython",
    "version": 3
   },
   "file_extension": ".py",
   "mimetype": "text/x-python",
   "name": "python",
   "nbconvert_exporter": "python",
   "pygments_lexer": "ipython3",
   "version": "3.9.18"
  }
 },
 "nbformat": 4,
 "nbformat_minor": 2
}
